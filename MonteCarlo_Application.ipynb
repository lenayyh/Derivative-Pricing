{
 "cells": [
  {
   "cell_type": "code",
   "execution_count": null,
   "metadata": {},
   "outputs": [],
   "source": [
    "import numpy as np\n",
    "import pandas as pd\n",
    "import matplotlib.pyplot as plt\n",
    "from scipy.stats import norm\n",
    "import numpy as np"
   ]
  },
  {
   "cell_type": "code",
   "execution_count": null,
   "metadata": {},
   "outputs": [
    {
     "name": "stdout",
     "output_type": "stream",
     "text": [
      "Price of the Asian option: 2.402539589554329\n"
     ]
    }
   ],
   "source": [
    "def full_truncation(S0, V0, rho, T, alpha, beta, gamma, r, M):\n",
    "    np.random.seed(1234)\n",
    "    N = 1_000\n",
    "    dt = T / M\n",
    "    S = np.zeros((N, M+1))\n",
    "    S[:, 0] = S0\n",
    "    V\n",
    "    \n",
    "    for i in range(1, M+1):\n",
    "        z1 = np.random.randn(N)\n",
    "        z2 = np.random.randn(N)\n",
    "        dW1 = np.sqrt(dt) * z1\n",
    "        dW2 = np.sqrt(dt) * (rho * z1 + np.sqrt(1 - rho**2) * z2)\n",
    "        \n",
    "        S[:, i] = S[:, i-1] * (1 + r * dt + np.sqrt(np.maximum(0, V)) * dW1)\n",
    "        V = V + (alpha + beta * np.maximum(0, V)) * dt + gamma * np.sqrt(np.maximum(0, V)) * dW2\n",
    "    \n",
    "    A = S.mean(axis=1)\n",
    "    price = np.exp(-r * T) * np.mean(np.maximum(S[:, -1] - A, 0))\n",
    "    \n",
    "    return price\n",
    "\n",
    "price = full_truncation(S0=20, V0=0.06, rho=-0.6, T=2, alpha=0.45, beta=-5.105, gamma=0.25, r=0.05, M=100)\n",
    "print(\"Price of the Asian option:\", price)\n"
   ]
  },
  {
   "cell_type": "markdown",
   "metadata": {},
   "source": [
    "Euler’s discretization scheme: $$ \\tilde{X}_{t_{k+1}} = \\tilde{X}_{t_k} + a(\\tilde{X}_{t_k}) \\Delta + b(\\tilde{X}_{t_k}) \\Delta W_{t_k} $$ \n",
    "For stock follow GBM: $$  \\tilde{X}_{t_{k+1}} = \\tilde{X}_{t_k} + r\\tilde{X}_{t_k} \\Delta + \\sigma \\tilde{X}_{t_k} \\Delta W_{t_k} $$"
   ]
  },
  {
   "cell_type": "code",
   "execution_count": 24,
   "metadata": {},
   "outputs": [
    {
     "data": {
      "text/plain": [
       "31.56326385992646"
      ]
     },
     "execution_count": 24,
     "metadata": {},
     "output_type": "execute_result"
    }
   ],
   "source": [
    "# Monte Carlo European option(Euler’s discretization scheme)\n",
    "def Euler_Option(S0, T, X, r, sigma, N, type):\n",
    "    dt = T/N\n",
    "    np.random.seed(123)\n",
    "    St = S0 \n",
    "    for i in range(int(N)):\n",
    "        # Lecture 3 page 24 Euler decomposition\n",
    "        St = St * (1 + r * dt + sigma * np.sqrt(dt) * np.random.randn(N))\n",
    "    if type == 'call':\n",
    "        price = np.exp(-r*T)*np.mean(np.maximum(St - X, 0))\n",
    "    else:\n",
    "        price = np.exp(-r*T)*np.mean(np.maximum(X - St, 0))\n",
    "    # std = np.std(np.exp(-r*T)*np.maximum(St - X, 0))/np.sqrt(N-1)\n",
    "    return price\n",
    "Euler_Option(S0=100, T=5, X=100, r=0.055, sigma=0.2, N=1000, type = 'call')"
   ]
  },
  {
   "cell_type": "markdown",
   "metadata": {},
   "source": [
    "Milshtein discretization scheme: $$ \\tilde{X}_{t_{k+1}} = \\tilde{X}_{t_k} + a(\\tilde{X}_{t_k}) \\Delta + b(\\tilde{X}_{t_k}) \\Delta W_{t_k} + \\frac{1}{2} b(\\tilde{X}_{t_k}) b'(\\tilde{X}_{t_k}) \\left\\{ (\\Delta W_{t_k})^2 - \\Delta \\right\\} $$ \n",
    "For stock follow GBM: $$  \\tilde{X}_{t_{k+1}} = \\tilde{X}_{t_k} + r\\tilde{X}_{t_k} \\Delta + \\sigma \\tilde{X}_{t_k} \\Delta W_{t_k} + \\frac{1}{2} \\sigma^2 \\tilde{X}_{t_k} \\left\\{ (\\Delta W_{t_k})^2 - \\Delta \\right\\}$$\n"
   ]
  },
  {
   "cell_type": "code",
   "execution_count": 7,
   "metadata": {},
   "outputs": [],
   "source": [
    "# Monte Carlo European option(Milshtein discretization scheme)\n",
    "def Milshtein_option(S0, T, X, r, sigma, N, type):\n",
    "    dt = T/N\n",
    "    St = S0\n",
    "    for i in range(N):\n",
    "        delta_W = np.sqrt(dt) * np.random.randn(N)\n",
    "        St = St * (1 + r * dt + sigma * delta_W + 0.5 * sigma**2 * ((delta_W)**2 - dt))\n",
    "\n",
    "    if type == 'call':\n",
    "        price = np.exp(-r*T)*np.mean(np.maximum(St - X, 0))\n",
    "    else:\n",
    "        price = np.exp(-r*T)*np.mean(np.maximum(X - St, 0))\n",
    "    # std = np.std(np.exp(-r*T)*np.maximum(result - X, 0))/np.sqrt(N-1)\n",
    "    return price\n",
    "Milshtein_option(S0=100, T=5, X=100, r=0.055, sigma=0.2, N=1000, type = 'call')"
   ]
  },
  {
   "cell_type": "code",
   "execution_count": 9,
   "metadata": {},
   "outputs": [],
   "source": [
    "# Approximate Normal Distribution\n",
    "def N_cdf(x):\n",
    "    d = [1, 0.0498673470, 0.0211410061, 0.0032776263, 0.0000380036, 0.0000488906,0.0000053830]\n",
    "    if x >= 0:\n",
    "        x_list = [1, x, x**2, x**3, x**4, x**5, x**6]\n",
    "        return 1 - 0.5 * np.dot(x_list, d) ** (-16)\n",
    "    else:\n",
    "        return 1- N_cdf(-x)"
   ]
  },
  {
   "cell_type": "code",
   "execution_count": 15,
   "metadata": {},
   "outputs": [
    {
     "data": {
      "text/plain": [
       "30.372636979431498"
      ]
     },
     "execution_count": 15,
     "metadata": {},
     "output_type": "execute_result"
    }
   ],
   "source": [
    "# European option using BS with N approximation\n",
    "def BSM_App(S0,K,T,t,sigma,r,y,type):\n",
    "    phi = -1\n",
    "    if type == \"call\":\n",
    "        phi = 1\n",
    "    z_p = (np.log(S0/K) + (r-y)*(T-t))/(sigma * np.sqrt(T-t)) + (sigma * np.sqrt(T-t))/2\n",
    "    z_n = (np.log(S0/K) + (r-y)*(T-t))/(sigma * np.sqrt(T-t)) - (sigma * np.sqrt(T-t))/2    \n",
    "    \n",
    "    price = phi *(S0 * np.exp(-y * (T-t))* N_cdf(phi * z_p) - K * np.exp(-r * (T-t)) * N_cdf(phi * z_n))\n",
    "    return price\n",
    "\n",
    "BSM_App(S0=100,K=100,T=5,t=0,sigma=0.2,r=0.055,y=0,type='call')"
   ]
  },
  {
   "cell_type": "code",
   "execution_count": 26,
   "metadata": {},
   "outputs": [],
   "source": [
    "# standard BSM model \n",
    "def BSM(S0,K,T,t,sigma,r,y,type):\n",
    "    phi = -1\n",
    "    if type == \"call\":\n",
    "        phi = 1\n",
    "    z_p = (np.log(S0/K) + (r-y)*(T-t))/(sigma * np.sqrt(T-t)) + (sigma * np.sqrt(T-t))/2\n",
    "    z_n = (np.log(S0/K) + (r-y)*(T-t))/(sigma * np.sqrt(T-t)) - (sigma * np.sqrt(T-t))/2    \n",
    "    \n",
    "    price = phi *(S0 * np.exp(-y * (T-t))* norm.cdf(phi * z_p) - K * np.exp(-r * (T-t)) *norm.cdf(phi * z_n))\n",
    "    return price"
   ]
  },
  {
   "cell_type": "code",
   "execution_count": 36,
   "metadata": {},
   "outputs": [],
   "source": [
    "# Calculate Option Greeks\n",
    "S0 = np.arange(95,106)\n",
    "K = 100 \n",
    "T = 0.5\n",
    "t=0\n",
    "sigma = 0.25 \n",
    "r = 0.055\n",
    "y = 0\n",
    "epsilon = 0.00001\n",
    "delta = (BSM(S0+epsilon,K,T,t,sigma,r,y,type='call') - BSM(S0-epsilon,K,T,t,sigma,r,y,type='call'))/ (2*epsilon)\n",
    "gamma = (BSM(S0+epsilon,K,T,t,sigma,r,y,type='call') -  2 * BSM(S0,K,T,t,sigma,r,y,type='call') +\\\n",
    "          BSM(S0-epsilon,K,T,t,sigma,r,y,type='call'))/ ((epsilon)**2)\n",
    "theta = (BSM(S0,K,T+epsilon,t,sigma,r,y,type='call') -  BSM(S0,K,T-epsilon,t,sigma,r,y,type='call'))/ (2*epsilon)\n",
    "vega = (BSM(S0,K,T,t,sigma+epsilon,r,y,type='call') -  BSM(S0,K,T,t,sigma-epsilon,r,y,type='call'))/ (2*epsilon)"
   ]
  },
  {
   "cell_type": "code",
   "execution_count": 26,
   "metadata": {},
   "outputs": [
    {
     "data": {
      "text/plain": [
       "40.37805326354636"
      ]
     },
     "execution_count": 26,
     "metadata": {},
     "output_type": "execute_result"
    }
   ],
   "source": [
    "def full_truncation(S0, V0, rho, T, alpha, beta, gamma, r, K, M):\n",
    "    np.random.seed(1234)\n",
    "    N = 1_000\n",
    "    V = V0\n",
    "    dt = T/M\n",
    "    S = np.zeros((N,M+1))\n",
    "    # Reflection \n",
    "    S[:,0] = S0\n",
    "    for i in range(1,M+1):\n",
    "        z1 = np.random.randn(N)\n",
    "        z2 = np.random.randn(N)\n",
    "        dW1 = z1\n",
    "        dW2 = rho * z1 + np.sqrt(1-rho**2) * z2\n",
    "        S[:,i] = S[:,i-1] * (1 + r * dt + np.sqrt(np.maximum(0,V)) * np.sqrt(dt) * dW1)\n",
    "        V = V + (alpha + (beta * np.maximum(0,V))) * dt + gamma * np.sqrt(np.maximum(0,V)) * np.sqrt(dt) * dW2\n",
    "    price = np.exp(-r*T) * np.mean(np.maximum(S[:-1] - K, 0))  \n",
    "    return price\n",
    "\n",
    "full_truncation(S0=100, V0=0.05, rho=-0.6, T=5, alpha=0.45, beta=0.0625, gamma = 0.25, r=0.055, K=100, M=100)\n"
   ]
  },
  {
   "cell_type": "code",
   "execution_count": 105,
   "metadata": {},
   "outputs": [
    {
     "data": {
      "text/plain": [
       "0.026261973509314397"
      ]
     },
     "execution_count": 105,
     "metadata": {},
     "output_type": "execute_result"
    }
   ],
   "source": [
    "# Estimation of Intergal using Halton sequence\n",
    "def get_halton(N, base):\n",
    "    seq = np.zeros(N)\n",
    "    num_bits = 1 + int(np.ceil(np.log(N) / np.log(base)))\n",
    "    vet_base = float(base)**-np.arange(1, num_bits + 1)\n",
    "    work_vet = np.zeros(num_bits)\n",
    "\n",
    "    for i in range(N):\n",
    "        ok = 0\n",
    "        j = 0\n",
    "        while ok == 0:\n",
    "            work_vet[j] += 1\n",
    "            if work_vet[j] < base:\n",
    "                ok = 1\n",
    "            else:\n",
    "                work_vet[j] = 0\n",
    "                j += 1\n",
    "        seq[i] = np.dot(work_vet, vet_base)\n",
    "\n",
    "    return seq\n",
    "\n",
    "N = 10_000\n",
    "x = get_halton(N, 2)\n",
    "y = get_halton(N, 3)\n",
    "\n",
    "# Integral for estimation\n",
    "result = (np.exp(-x * y) * (np.sin(6 * np.pi * x) + np.cbrt(np.cos(2 * np.pi * y)))).mean()\n",
    "result"
   ]
  },
  {
   "cell_type": "code",
   "execution_count": null,
   "metadata": {},
   "outputs": [],
   "source": []
  }
 ],
 "metadata": {
  "kernelspec": {
   "display_name": "Python 3",
   "language": "python",
   "name": "python3"
  },
  "language_info": {
   "codemirror_mode": {
    "name": "ipython",
    "version": 3
   },
   "file_extension": ".py",
   "mimetype": "text/x-python",
   "name": "python",
   "nbconvert_exporter": "python",
   "pygments_lexer": "ipython3",
   "version": "3.11.3"
  }
 },
 "nbformat": 4,
 "nbformat_minor": 2
}
