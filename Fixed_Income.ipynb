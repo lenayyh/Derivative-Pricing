{
 "cells": [
  {
   "cell_type": "code",
   "execution_count": null,
   "metadata": {},
   "outputs": [],
   "source": [
    "# Fixed Income Securities"
   ]
  },
  {
   "cell_type": "code",
   "execution_count": null,
   "metadata": {},
   "outputs": [],
   "source": [
    "import numpy as np\n",
    "from scipy.optimize import fmin"
   ]
  },
  {
   "cell_type": "code",
   "execution_count": null,
   "metadata": {},
   "outputs": [],
   "source": [
    "def price_MBS(r_bar, ka, sigma):\n",
    "    r0 = 0.078\n",
    "    WAC = 0.08\n",
    "    r = WAC/12\n",
    "    R = 12 * r\n",
    "    # maturity for MBS\n",
    "    T = 30\n",
    "    N = 10_000\n",
    "    PV_0 = 100_000\n",
    "    M = T * 12 * 100\n",
    "    T_CB = np.arange(0,30+1/12,1/12)\n",
    "    dt = T_CB[-1] / N\n",
    "    r_1 = CIR(r0, sigma, ka, r_bar, 0, T_CB[-1], N, M)\n",
    "    positions = (T_CB / T_CB[-1] * M).astype(int)\n",
    "    Sim_R_dis = np.zeros((N,len(T_CB)))\n",
    "    for i in range(len(positions)):\n",
    "        Sim_R_dis[:,i] = -r_1[:,:(positions[i]+1)].mean(axis = 1) * T_CB[i]\n",
    "\n",
    "    # discount rate for each cash payment \n",
    "    discount = np.exp(Sim_R_dis)\n",
    "\n",
    "    # maturity for 10-year risk free\n",
    "    T_sim = T + 10\n",
    "    M_sim = T_sim * 12 * 100\n",
    "\n",
    "    # approximately for 30-year\n",
    "    T_CB_sim = np.arange(0,30+1/12,1/12)\n",
    "    dt = T_sim / M_sim\n",
    "    r_sim = np.zeros((N,M_sim+1))\n",
    "    r_sim[:,0] = r0\n",
    "    for i in range(M):\n",
    "        dw = np.random.randn(N)\n",
    "        r_sim[:,i+1] = r_sim[:,i] + ka * (r_bar - r_sim[:,i]) * dt + sigma * np.sqrt(r_sim[:,i]) * np.sqrt(dt) * dw\n",
    "    positions = (T_CB_sim / T_CB_sim[-1] * M).astype(int)\n",
    "    r_ten = np.zeros((N,len(T_CB_sim)))\n",
    "    for i in range(len(positions)):\n",
    "        # for each time we payment occured corresponds to a rate for CPR\n",
    "        r_ten[:,i] = r_sim[:,positions[i]:(positions[i]+121)].mean(axis=1)\n",
    "    \n",
    "    SY_list = [0.94, 0.76, 0.74, 0.95, 0.98, 0.92, 0.98, 1.10, 1.18, 1.22, 1.23, 0.98]\n",
    "    PV = np.zeros((N,len(T_CB)))\n",
    "    PV[:,0] = PV_0\n",
    "    Ct = np.zeros((N,len(T_CB)))\n",
    "\n",
    "    # Calculate ct at each time step and recursively calculate the price at 0\n",
    "    for i in range(1,len(T_CB)):\n",
    "        # variables to calculate CPR\n",
    "        RI = 0.28 + 0.14 * np.arctan(-8.57 + 430 * (R - r_ten[:,i-1]))\n",
    "        BU = 0.3 + 0.7 * (PV[:,i-1]/PV_0)\n",
    "        SG = np.minimum(1,i/30)\n",
    "        SY = SY_list[i % 12 - 1]\n",
    "        CPR = RI * BU * SY * SG\n",
    "        dis = 1 / (1 - (1 + r) ** ((-T * 12) + (i-1)))\n",
    "        MP = (PV[:,i-1] * r) * dis\n",
    "        Ct[:,i] =  MP + (PV[:,i-1] - PV[:,i-1] * r * (dis - 1)) * (1-(1-CPR)**(1/12))\n",
    "        PV[:,i] = PV[:,i-1] - Ct[:,i] + PV[:,i-1] * r\n",
    "\n",
    "    # discount cash flow for N paths and then take the mean to get final price\n",
    "    PV_result = np.sum(Ct[:,1:-1] * discount[:,1:-1].mean(axis = 0)) / N \n",
    "    return [PV_result, Ct, Sim_R_dis, N, PV, r]"
   ]
  },
  {
   "cell_type": "code",
   "execution_count": null,
   "metadata": {},
   "outputs": [
    {
     "name": "stdout",
     "output_type": "stream",
     "text": [
      "MBS price is: $100478.28\n"
     ]
    }
   ],
   "source": [
    "PV_result = price_MBS(r_bar = 0.08, ka = 0.6, sigma = 0.12)\n",
    "print(f'MBS price is: ${PV_result[0]:.2f}')"
   ]
  },
  {
   "cell_type": "code",
   "execution_count": null,
   "metadata": {},
   "outputs": [],
   "source": [
    "r_bar_list = np.arange(0.04, 0.11, 0.01)[:-1]\n",
    "r_bar_price = []\n",
    "for i in r_bar_list:\n",
    "    r_bar_price.append(price_MBS(r_bar = i, ka = 0.6, sigma = 0.12)[0]) "
   ]
  },
  {
   "cell_type": "code",
   "execution_count": null,
   "metadata": {},
   "outputs": [
    {
     "data": {
      "text/plain": [
       "[111313.6880768421,\n",
       " 109291.02590843024,\n",
       " 106867.90274997507,\n",
       " 104146.94012110503,\n",
       " 100588.58254588883,\n",
       " 96657.66570857717,\n",
       " 92362.5757516282]"
      ]
     },
     "metadata": {},
     "output_type": "display_data"
    }
   ],
   "source": [
    "r_bar_price"
   ]
  },
  {
   "cell_type": "code",
   "execution_count": null,
   "metadata": {},
   "outputs": [
    {
     "name": "stdout",
     "output_type": "stream",
     "text": [
      "Optimization terminated successfully.\n",
      "         Current function value: 0.000048\n",
      "         Iterations: 17\n",
      "         Function evaluations: 34\n",
      "OAS is: 0.02503\n"
     ]
    }
   ],
   "source": [
    "Ct = PV_result[1]\n",
    "Sim_R_dis = PV_result[2]\n",
    "N = PV_result[3]\n",
    "\n",
    "def find(x):\n",
    "    result = np.sum(Ct[:,1:] * np.exp(Sim_R_dis-x)[:,1:].mean(axis = 0)) / N  - 98000\n",
    "    return result ** 2 \n",
    "\n",
    "solution = fmin(find,  [0.03])\n",
    "\n",
    "print(f'OAS is: {solution[0]:.5f}')"
   ]
  },
  {
   "cell_type": "code",
   "execution_count": null,
   "metadata": {},
   "outputs": [
    {
     "name": "stdout",
     "output_type": "stream",
     "text": [
      "IOs price is: $40511.85\n",
      "POs price is: $59971.97\n"
     ]
    }
   ],
   "source": [
    "discount = np.exp(Sim_R_dis)\n",
    "PV = PV_result[4]\n",
    "r = PV_result[5]\n",
    "IP = PV * r\n",
    "IO = np.sum(IP[:,1:] * discount[:,1:].mean(axis = 0)) / N \n",
    "PO = np.sum((Ct[:,1:] - IP[:,1:]) * discount[:,1:].mean(axis = 0)) / N \n",
    "print(f'IOs price is: ${IO:.2f}')\n",
    "print(f'POs price is: ${PO:.2f}')"
   ]
  }
 ],
 "metadata": {
  "language_info": {
   "name": "python"
  }
 },
 "nbformat": 4,
 "nbformat_minor": 2
}
