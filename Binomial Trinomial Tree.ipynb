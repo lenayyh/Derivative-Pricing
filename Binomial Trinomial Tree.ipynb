{
 "cells": [
  {
   "cell_type": "code",
   "execution_count": null,
   "metadata": {},
   "outputs": [],
   "source": []
  },
  {
   "cell_type": "code",
   "execution_count": null,
   "metadata": {},
   "outputs": [],
   "source": [
    "import pandas as pd\n",
    "import numpy as np\n",
    "import scipy.stats as stats\n",
    "import matplotlib.pyplot as plt\n",
    "from scipy.linalg import lstsq\n",
    "import scipy.linalg as linalg \n",
    "from scipy.linalg import solve\n",
    "from scipy.stats import norm\n",
    "import math"
   ]
  },
  {
   "cell_type": "code",
   "execution_count": null,
   "metadata": {},
   "outputs": [],
   "source": [
    "def America_put(S0,T,M,u,d,X,r,p):\n",
    "    delta = T/M\n",
    "    price = pd.DataFrame(columns = np.arange(M+1),index = np.arange(M+1))\n",
    "    price.loc[0,0] = S0\n",
    "\n",
    "    for i in price.columns[1:]:\n",
    "        for k in range(i+1):\n",
    "            price.loc[k,i] = S0 * u**(i-k) * d**k\n",
    "            \n",
    "    # Put payoff\n",
    "    payoff = X-price\n",
    "    payoff = pd.DataFrame(np.where(payoff>0,payoff,0))\n",
    "    for i in np.linspace(M-1,0,M).astype(int):\n",
    "        for j in range(i+1):\n",
    "            # caclulated backward\n",
    "            CV = np.exp(-r*delta) * (p*payoff.loc[j,i+1] + (1-p) * payoff.loc[j+1,i+1])\n",
    "            payoff.loc[j,i] = max(CV,payoff.loc[j,i])\n",
    "    return(payoff.loc[0,0])"
   ]
  },
  {
   "cell_type": "code",
   "execution_count": null,
   "metadata": {},
   "outputs": [],
   "source": [
    "def A_para(r,sigma,T,M):\n",
    "    delta = T/M\n",
    "    c = 0.5 * (np.exp(-r * delta) + np.exp((r+sigma**2) * delta))\n",
    "    d = c - np.sqrt(c**2-1)\n",
    "    u = 1/d\n",
    "    p = (np.exp(r*delta) - d)/(u-d)\n",
    "    return([u,d,p])\n",
    "def B_para(r,sigma,T,M):\n",
    "    delta = T/M\n",
    "    d = np.exp((r-sigma**2/2)*delta - sigma * np.sqrt(delta))\n",
    "    u = np.exp((r-sigma**2/2)*delta + sigma * np.sqrt(delta))\n",
    "    p = 0.5\n",
    "    return([u,d,p])"
   ]
  },
  {
   "cell_type": "code",
   "execution_count": null,
   "metadata": {},
   "outputs": [],
   "source": [
    "result_1 = pd.DataFrame(index = [20,40,80,100,200,500], columns = ['MethodA','MethodB'])\n",
    "for n in result_1.index:\n",
    "    parameters_A = A_para(r=0.055, sigma = 0.25, T = 0.5, M = n)\n",
    "    result_1.loc[n,'MethodA'] = America_put(S0=180,X=180,u = parameters_A[0], d =parameters_A[1],p=parameters_A[2],T = 0.5, M=n,r = 0.055)\n",
    "    parameters_B = B_para(r=0.055, sigma = 0.25, T = 0.5, M = n)\n",
    "    result_1.loc[n,'MethodB'] = America_put(S0=180,X=180,u = parameters_B[0], d =parameters_B[1],p=parameters_B[2],T = 0.5, M=n,r = 0.055)\n",
    "result_1"
   ]
  },
  {
   "cell_type": "code",
   "execution_count": null,
   "metadata": {},
   "outputs": [],
   "source": [
    "result_1"
   ]
  },
  {
   "cell_type": "code",
   "execution_count": null,
   "metadata": {},
   "outputs": [],
   "source": [
    "def CRR_para(r,sigma,T,n):\n",
    "    if T <= 0 :\n",
    "        u = 0\n",
    "        d = 0\n",
    "        p = 0\n",
    "    else:\n",
    "        delta = T/n\n",
    "        d = np.exp(-sigma * np.sqrt(delta))\n",
    "        u = np.exp(sigma * np.sqrt(delta))\n",
    "        p = (np.exp(r*delta) - d)/(u-d)\n",
    "    return([u,d,p])"
   ]
  },
  {
   "cell_type": "code",
   "execution_count": null,
   "metadata": {},
   "outputs": [],
   "source": [
    "# Option Greeks\n",
    "S0_list = np.arange(170,190+2,2)\n",
    "Delta_S = []\n",
    "epsilon = 0.00001\n",
    "CRR_para1 = CRR_para(r=0.055, sigma = 0.25, T = 0.5, n = 50)\n",
    "for i in range(len(S0_list)):\n",
    "    P_old = America_put(S0=S0_list[i]-epsilon,X=180,u = CRR_para1[0], d =CRR_para1[1],p=CRR_para1[2],T = 0.5, n=50,r = 0.055)\n",
    "    P_new = America_put(S0=S0_list[i]+epsilon,X=180,u = CRR_para1[0], d =CRR_para1[1],p=CRR_para1[2],T = 0.5, n=50,r = 0.055)\n",
    "    Delta_S.append((P_new-P_old)/(2*epsilon))\n",
    "T_list = np.arange(0, 0.18 + 0.003, 0.003)\n",
    "Delta_T = []\n",
    "for t in T_list:\n",
    "    CRR_para1 = CRR_para(r=0.055, sigma = 0.25, T = t, n = 50)\n",
    "    P_old = America_put(S0=180-epsilon,X=180,u = CRR_para1[0], d =CRR_para1[1],p=CRR_para1[2],T =t, n=50,r = 0.055)\n",
    "    P_new = America_put(S0=180+epsilon,X=180,u = CRR_para1[0], d =CRR_para1[1],p=CRR_para1[2],T =t, n=50,r = 0.055)\n",
    "    Delta_T.append((P_new-P_old)/(2*epsilon))\n",
    "Theta_T = []\n",
    "for i in range(len(T_list))[1:]:\n",
    "    CRR_para1 = CRR_para(r=0.055, sigma = 0.25, T = T_list[i]-epsilon, n = 50)\n",
    "    CRR_para2 = CRR_para(r=0.055, sigma = 0.25, T = T_list[i]+epsilon, n = 50)\n",
    "    P_old = America_put(S0=180,X=180,u = CRR_para1[0], d =CRR_para1[1],p=CRR_para1[2],T = T_list[i]-epsilon, n=50,r = 0.055)\n",
    "    P_new = America_put(S0=180,X=180,u = CRR_para2[0], d =CRR_para2[1],p=CRR_para2[2],T = T_list[i]+epsilon, n=50,r = 0.055)\n",
    "    Theta_T.append(-(P_new-P_old)/(2*epsilon))\n",
    "Vega_S = []\n",
    "for i in range(len(S0_list)):\n",
    "    CRR_para1 = CRR_para(r=0.055, sigma = 0.25-epsilon, T = 0.5, n = 50)\n",
    "    CRR_para2 = CRR_para(r=0.055, sigma = 0.25+epsilon, T = 0.5, n = 50)\n",
    "    P_old = America_put(S0=S0_list[i],X=180,u = CRR_para1[0], d =CRR_para1[1],p=CRR_para1[2],T = 0.5, n=50,r = 0.055)\n",
    "    P_new = America_put(S0=S0_list[i],X=180,u = CRR_para2[0], d =CRR_para2[1],p=CRR_para2[2],T = 0.5, n=50,r = 0.055)\n",
    "    Vega_S.append((P_new-P_old)/(2*epsilon))"
   ]
  },
  {
   "cell_type": "markdown",
   "metadata": {},
   "source": [
    "# Trinomial Tree Option price"
   ]
  },
  {
   "cell_type": "code",
   "execution_count": null,
   "metadata": {},
   "outputs": [],
   "source": [
    "def Tri_A_para(r,sigma,T,n):\n",
    "    delta = T/n\n",
    "    d = np.exp(-sigma*np.sqrt(3*delta))\n",
    "    u = 1/d\n",
    "    p_d = (r*delta *(1-u) + (r*delta)**2 + sigma**2*delta)/((u-d)*(1-d))\n",
    "    pu = (r*delta *(1-d) + (r*delta)**2 + sigma**2*delta)/((u-d)*(u-1))\n",
    "    return([u,d,pu,p_d])\n",
    "def Tri_B_para(r,sigma,T,n):\n",
    "    delta = T/n\n",
    "    dXu = sigma * np.sqrt(3*delta)\n",
    "    dXd = -sigma * np.sqrt(3*delta)\n",
    "    LU = (sigma**2 * delta) + ((r-sigma**2/2)**2 * delta **2)\n",
    "    RU = (r-sigma**2/2) * delta\n",
    "    p_d = 0.5 * (LU/dXu**2 - RU/dXu)\n",
    "    pu = 0.5 * (LU/dXu**2 + RU/dXu)\n",
    "    return([dXu,dXd,pu,p_d])"
   ]
  },
  {
   "cell_type": "code",
   "execution_count": null,
   "metadata": {},
   "outputs": [],
   "source": [
    "def Tri_put(S0,T,n,u,d,X,r,p_u,p_d):\n",
    "    delta = T/n\n",
    "    pm = 1-p_d-p_u\n",
    "    m=1\n",
    "    price = pd.DataFrame(columns = np.arange(n+1),index = np.arange(n+1))\n",
    "    price.loc[0,0] = S0\n",
    "    for i in price.columns[1:]:\n",
    "        for k in range(2*i+1):\n",
    "            u_p = max(i-k,0)\n",
    "            d_p = max(k-i,0)\n",
    "            price.loc[k,i] = S0 * (u ** u_p) * (d ** d_p)\n",
    "    payoff = X-price\n",
    "    payoff = pd.DataFrame(np.where(payoff>0,payoff,0))\n",
    "    for i in np.linspace(n-1,0,n).astype(int):\n",
    "        for j in range(2*i+1):\n",
    "            CV = np.exp(-r*delta) * (p_u*payoff.loc[j,i+1]+ pm*payoff.loc[j+1,i+1] + p_d * payoff.loc[j+2,i+1])\n",
    "            payoff.loc[j,i] = max(CV,payoff.loc[j,i])\n",
    "    return(payoff.loc[0,0])"
   ]
  },
  {
   "cell_type": "code",
   "execution_count": null,
   "metadata": {},
   "outputs": [],
   "source": [
    "def Tri_put_log(S0,T,n,dXu,dXd,X,r,p_u,p_d):\n",
    "    delta = T/n\n",
    "    pm = 1-p_d-p_u\n",
    "    price = pd.DataFrame(columns = np.arange(n+1),index = np.arange(n+1))\n",
    "    X0 = np.log(S0)\n",
    "    price.loc[0,0] = X0\n",
    "    for i in price.columns[1:]:\n",
    "        for k in range(2*i+1):\n",
    "            u_p = max(i-k,0)\n",
    "            d_p = max(k-i,0)\n",
    "            price.loc[k,i] = np.exp(X0 + u_p * dXu + d_p * dXd)\n",
    "    price.loc[0,0] = S0\n",
    "    payoff = X-price\n",
    "    payoff = pd.DataFrame(np.where(payoff>0,payoff,0))\n",
    "    for i in np.linspace(n-1,0,n).astype(int):\n",
    "        for j in range(2*i+1):\n",
    "            CV = np.exp(-r*delta) * (p_u*payoff.loc[j,i+1]+ pm*payoff.loc[j+1,i+1] + p_d * payoff.loc[j+2,i+1])\n",
    "            payoff.loc[j,i] = max(CV,payoff.loc[j,i])\n",
    "    return(payoff.loc[0,0])"
   ]
  },
  {
   "cell_type": "code",
   "execution_count": null,
   "metadata": {},
   "outputs": [],
   "source": []
  }
 ],
 "metadata": {
  "kernelspec": {
   "display_name": "Python 3",
   "language": "python",
   "name": "python3"
  },
  "language_info": {
   "codemirror_mode": {
    "name": "ipython",
    "version": 3
   },
   "file_extension": ".py",
   "mimetype": "text/x-python",
   "name": "python",
   "nbconvert_exporter": "python",
   "pygments_lexer": "ipython3",
   "version": "3.11.3"
  }
 },
 "nbformat": 4,
 "nbformat_minor": 2
}
