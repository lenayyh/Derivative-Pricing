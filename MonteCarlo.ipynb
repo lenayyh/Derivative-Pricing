{
 "cells": [
  {
   "cell_type": "code",
   "execution_count": 4,
   "metadata": {},
   "outputs": [],
   "source": [
    "import numpy as np\n",
    "import pandas as pd\n",
    "import matplotlib.pyplot as plt\n",
    "from scipy.stats import norm\n",
    "import time"
   ]
  },
  {
   "cell_type": "code",
   "execution_count": null,
   "metadata": {},
   "outputs": [],
   "source": [
    "# Monte Carlo Simulation\n",
    "def W_t(variance,N,s):\n",
    "    np.random.seed(s)\n",
    "    Z = np.sqrt(variance) * np.random.randn(N)\n",
    "    return Z\n",
    "def At(W):\n",
    "    return (W**2 + np.sin(W))\n",
    "def Bt(W,t):\n",
    "    return (np.exp(t/2) * np.cos(W))"
   ]
  },
  {
   "cell_type": "code",
   "execution_count": null,
   "metadata": {},
   "outputs": [],
   "source": [
    "N = 10_000\n",
    "W_1 = W_t(1,N,123)\n",
    "W_3 = W_t(3,N,123)\n",
    "W_5 = W_t(5,N,123)\n",
    "A1 = At(W_1).mean()\n",
    "A3 = At(W_3).mean()\n",
    "A5 = At(W_5).mean()\n",
    "\n",
    "B1 = Bt(W_1,1).mean()\n",
    "B3 = Bt(W_3,3).mean()\n",
    "B5 = Bt(W_5,5).mean()\n",
    "\n",
    "print('Value of A(t):',round(A1,5),round(A3,5),round(A5,5))\n",
    "print('Value of B(t):',round(B1,5),round(B3,5),round(B5,5))"
   ]
  },
  {
   "cell_type": "code",
   "execution_count": null,
   "metadata": {},
   "outputs": [],
   "source": [
    "# Call put value of GBM underlying using Monte Carlo Simulation\n",
    "def MC_Option(S0,K,T,t,sigma,r,y,N,type,control=False):\n",
    "    z = np.random.randn(N)\n",
    "    mu_Q = r-y-(sigma**2)/2\n",
    "    # Anthithetic Variates method Control vairante\n",
    "    St = S0 * np.exp(mu_Q*(T-t)+sigma*np.sqrt(T-t)*z)\n",
    "    St_n = S0 * np.exp(mu_Q*(T-t)-sigma*np.sqrt(T-t)*z)\n",
    "    if type == 'call':\n",
    "        payoff = np.maximum(St - K, 0)\n",
    "        payoff_c = np.maximum(St_n - K, 0)\n",
    "    elif type == 'put':\n",
    "        payoff = np.maximum(K - St, 0)\n",
    "        payoff_c = np.maximum(K - St_n, 0)\n",
    "    if control == True:\n",
    "        payoff = (payoff + payoff_c)/2\n",
    "    result = np.exp(-r*(T-t))*np.mean(payoff)\n",
    "    return result\n",
    "MC_Option(S0=100,K=100,T=5,t=0,sigma=0.2,r=0.055,y=0,N=10_000,type='call')\n"
   ]
  },
  {
   "cell_type": "code",
   "execution_count": null,
   "metadata": {},
   "outputs": [],
   "source": [
    "def BSM(S0,K,T,t,sigma,r,y,type):\n",
    "    phi = -1\n",
    "    if type == \"call\":\n",
    "        phi = 1\n",
    "    z_p = (np.log(S0/K) + (r-y)*(T-t))/(sigma * np.sqrt(T-t)) + (sigma * np.sqrt(T-t))/2\n",
    "    z_n = (np.log(S0/K) + (r-y)*(T-t))/(sigma * np.sqrt(T-t)) - (sigma * np.sqrt(T-t))/2    \n",
    "    \n",
    "    price = phi *(S0 * np.exp(-y * (T-t))* norm.cdf(phi * z_p) - K * np.exp(-r * (T-t)) *norm.cdf(phi * z_n))\n",
    "    return price\n",
    "BSM(S0=100,K=100,T=5,t=0,sigma=0.2,r=0.055,y=0,type='call')"
   ]
  },
  {
   "cell_type": "code",
   "execution_count": 38,
   "metadata": {},
   "outputs": [
    {
     "data": {
      "text/plain": [
       "[<matplotlib.lines.Line2D at 0x108ebdcd0>]"
      ]
     },
     "execution_count": 38,
     "metadata": {},
     "output_type": "execute_result"
    },
    {
     "data": {
      "image/png": "[encoded data removed]",
      "text/plain": [
       "<Figure size 640x480 with 1 Axes>"
      ]
     },
     "metadata": {},
     "output_type": "display_data"
    }
   ],
   "source": [
    "# simulate S without path\n",
    "def simulate_S(S0,r,sigma,N,T,t):\n",
    "    # np.random.seed(123)\n",
    "    mu_Q = r-(sigma**2)/2\n",
    "    z = np.random.randn(N)\n",
    "    S = S0 * np.exp(mu_Q*(T-t)+sigma*np.sqrt(T-t)*z)\n",
    "    return S\n",
    "S_1 = pd.DataFrame(index = np.arange(1000), columns = np.arange(1,11))\n",
    "for i in S_1.columns:\n",
    "    S_1[i] = simulate_S(S0 = 88, r = 0.055, sigma = 0.2, T=i,t=0,N=1000)\n",
    "plt.plot(S_1.mean(axis = 0))  \n"
   ]
  },
  {
   "cell_type": "code",
   "execution_count": 70,
   "metadata": {},
   "outputs": [],
   "source": [
    "# Simulate S with Path\n",
    "def Sim_Sp(S0, t, T, r, sigma, N):\n",
    "    dt = T/N\n",
    "    S = [S0]\n",
    "    z = np.cumsum(np.random.randn(N) * np.sqrt(dt))\n",
    "    #S.append(S0 * np.exp(sigma * z[0] + (2 - sigma**2/2)*dt))\n",
    "    for i in range(N):\n",
    "        S.append(S0 * np.exp(sigma * z[i] + (2 - sigma**2/2)*dt))\n",
    "    return S"
   ]
  },
  {
   "cell_type": "code",
   "execution_count": 5,
   "metadata": {},
   "outputs": [
    {
     "data": {
      "text/plain": [
       "array([20.        , 20.0309054 , 20.08628365, 20.13451551, 20.17988682,\n",
       "       20.195032  , 20.23154712, 20.24420071, 20.28263945, 20.32370042,\n",
       "       20.296647  , 20.31634951, 20.33890896, 20.35034398, 20.36602491,\n",
       "       20.39974567, 20.401945  , 20.42943816, 20.39936437, 20.40703662,\n",
       "       20.42439127, 20.48469143, 20.52506522, 20.55353666, 20.57067503,\n",
       "       20.5568619 , 20.56262795, 20.58143707, 20.62360174, 20.66128535,\n",
       "       20.67764258, 20.75480419, 20.70732264, 20.70187238, 20.77568966,\n",
       "       20.78791401, 20.83220233, 20.86561053, 20.85923442, 20.90733148,\n",
       "       20.91729753, 20.89563612, 20.95574171, 21.00669073, 21.01086398,\n",
       "       21.00055489, 21.03082027, 21.0593096 , 21.04901087, 21.07024639,\n",
       "       21.09473793, 21.10529663, 21.07795848, 21.07128061, 21.12017717,\n",
       "       21.10054844, 21.05533269, 21.0876558 , 21.09617545, 21.11139441,\n",
       "       21.13221429, 21.157043  , 21.17086912, 21.2010833 , 21.24576518,\n",
       "       21.3039484 , 21.32610941, 21.39538236, 21.41954369, 21.48335181,\n",
       "       21.4580942 , 21.52648711, 21.57351641, 21.57451924, 21.60986376,\n",
       "       21.59422477, 21.62969219, 21.59259602, 21.63301494, 21.65978189,\n",
       "       21.67646834, 21.69830308, 21.74497018, 21.735301  , 21.74410427,\n",
       "       21.74758619, 21.76144284, 21.82359566, 21.82433874, 21.84276535,\n",
       "       21.89421093, 21.87804053, 21.93285041, 21.94427202, 21.89861195,\n",
       "       22.00256924, 22.07084749, 22.11984862, 22.09279397, 22.12262995,\n",
       "       22.10118614])"
      ]
     },
     "execution_count": 5,
     "metadata": {},
     "output_type": "execute_result"
    }
   ],
   "source": [
    "def full_truncation_stock(S0, V0, rho, T, alpha, beta, gamma, r, M):\n",
    "    N = 1_000\n",
    "    dt = T/M\n",
    "    S = np.zeros((N,M+1))\n",
    "    V = np.zeros((N,M+1))\n",
    "    # Reflection \n",
    "    S[:,0] = S0\n",
    "    V[:,0] = V0 \n",
    "    for i in range(1,M+1):\n",
    "        np.random.seed(i)\n",
    "        z1 = np.random.randn(N)\n",
    "        z2 = np.random.randn(N)\n",
    "        dW1 = np.sqrt(dt) * z1\n",
    "        dW2 = np.sqrt(dt) * (rho * z1 + np.sqrt(1 - rho**2) * z2)\n",
    "        S[:, i] = S[:,i-1] * (1 + r * dt + np.sqrt(np.maximum(0, V[:,i-1])) * dW1)\n",
    "        V[:, i] = V[:,i-1] + (alpha + beta * np.maximum(0, V[:,i-1])) * dt + gamma * np.sqrt(np.maximum(0, V[:,i-1])) * dW2 \n",
    "    return S.mean(axis = 0)"
   ]
  }
 ],
 "metadata": {
  "kernelspec": {
   "display_name": "Python 3",
   "language": "python",
   "name": "python3"
  },
  "language_info": {
   "codemirror_mode": {
    "name": "ipython",
    "version": 3
   },
   "file_extension": ".py",
   "mimetype": "text/x-python",
   "name": "python",
   "nbconvert_exporter": "python",
   "pygments_lexer": "ipython3",
   "version": "3.11.3"
  }
 },
 "nbformat": 4,
 "nbformat_minor": 2
}
