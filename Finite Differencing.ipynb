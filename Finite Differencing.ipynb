{
 "cells": [
  {
   "cell_type": "code",
   "execution_count": 5,
   "metadata": {},
   "outputs": [],
   "source": [
    "import pandas as pd\n",
    "import numpy as np\n",
    "import scipy.stats as stats\n",
    "import matplotlib.pyplot as plt\n",
    "from scipy.linalg import lstsq\n",
    "import scipy.linalg as linalg \n",
    "from scipy.linalg import solve\n",
    "from scipy.stats import norm\n",
    "import math"
   ]
  },
  {
   "cell_type": "markdown",
   "metadata": {},
   "source": [
    "# EFD Call,Put and Eurpean, American"
   ]
  },
  {
   "cell_type": "code",
   "execution_count": 33,
   "metadata": {},
   "outputs": [
    {
     "data": {
      "text/plain": [
       "10.675727249004005"
      ]
     },
     "execution_count": 33,
     "metadata": {},
     "output_type": "execute_result"
    }
   ],
   "source": [
    "def Explicit_X_Put(dt,T,sigma,r,S0,k,K,dx_n):\n",
    "    X0 = np.log(S0)\n",
    "    dx = sigma * np.sqrt(dx_n * dt)\n",
    "    X_max = X0 + k * dx\n",
    "    X_min = X0 - k * dx\n",
    "    \n",
    "    M = np.arange(T / dt).astype(int)\n",
    "    N = ((X_max - X_min) / dx).astype(int)\n",
    "    if N % 2 == 0:\n",
    "        N = np.arange(N+1)\n",
    "    else:\n",
    "        N = np.arange(N)\n",
    "        \n",
    "    S = np.exp(np.linspace(X_max,X_min,len(N)))\n",
    "\n",
    "    p_u = dt * ((sigma ** 2) / (2 * dx**2) + (r-sigma**2/2)/(2 * dx))\n",
    "    p_m = 1 - dt * sigma ** 2 / dx ** 2 - r * dt\n",
    "    p_d = dt * ((sigma ** 2) / (2 * dx**2) - (r-sigma**2/2)/(2 * dx))\n",
    "    p = [p_u,p_m,p_d]\n",
    "\n",
    "    A = pd.DataFrame(np.NaN,index = N, columns = N)\n",
    "    A.iloc[0,0:3] = p\n",
    "    A.iloc[-1,len(N)-3:] = p\n",
    "    A.iloc[1:-1,0:3] = p\n",
    "\n",
    "    for i in range(2,len(N)-1):\n",
    "        A.iloc[i] = A.iloc[i].shift(i-1)\n",
    "    A = np.array(A.fillna(0))\n",
    "\n",
    "    F_1 = np.maximum(K-S,0)\n",
    "    payoff = np.maximum(K-S,0)\n",
    "    # note P6 L6\n",
    "    F_1[0] = F_1[1]\n",
    "    F_1[-1] = F_1[-2] + S[-2] - S[-1]\n",
    "    \n",
    "    for t in M:\n",
    "        F = A @ F_1\n",
    "        F_1[0] = F_1[1]\n",
    "        # for B\n",
    "        F[-1] = F[-2] + S[-2] - S[-1]\n",
    "        # American option; comment out if is European\n",
    "        F_1 = np.maximum(F,payoff)   \n",
    "    return F_1[int(len(N)/2)]\n",
    "Explicit_X_Put(dt= 0.002,T=0.5,sigma=0.25,r=0.055,S0=180,k=50,K=180,dx_n=1)"
   ]
  },
  {
   "cell_type": "code",
   "execution_count": 52,
   "metadata": {},
   "outputs": [
    {
     "data": {
      "text/plain": [
       "15.085220219373193"
      ]
     },
     "execution_count": 52,
     "metadata": {},
     "output_type": "execute_result"
    }
   ],
   "source": [
    "def Explicit_X_Call(dt,T,sigma,r,S0,k,K,dx_n):\n",
    "    X0 = np.log(S0)\n",
    "    dx = sigma * np.sqrt(dx_n * dt)\n",
    "    X_max = X0 + k * dx\n",
    "    X_min = X0 - k * dx\n",
    "    \n",
    "    M = np.arange(T / dt).astype(int)\n",
    "    N = ((X_max - X_min) / dx).astype(int)\n",
    "    if N % 2 == 0:\n",
    "        N = np.arange(N+1)\n",
    "    else:\n",
    "        N = np.arange(N)\n",
    "        \n",
    "    S = np.exp(np.linspace(X_max,X_min,len(N)))\n",
    "\n",
    "    p_u = dt * ((sigma ** 2) / (2 * dx**2) + (r-sigma**2/2)/(2 * dx))\n",
    "    p_m = 1 - dt * sigma ** 2 / dx ** 2 - r * dt\n",
    "    p_d = dt * ((sigma ** 2) / (2 * dx**2) - (r-sigma**2/2)/(2 * dx))\n",
    "    p = [p_u,p_m,p_d]\n",
    "\n",
    "    A = pd.DataFrame(np.NaN,index = N, columns = N)\n",
    "    A.iloc[0,0:3] = p\n",
    "    A.iloc[-1,len(N)-3:] = p\n",
    "    A.iloc[1:-1,0:3] = p\n",
    "\n",
    "    for i in range(2,len(N)-1):\n",
    "        A.iloc[i] = A.iloc[i].shift(i-1)\n",
    "    A = np.array(A.fillna(0))\n",
    "\n",
    "    F_1 = np.maximum(S-K,0)\n",
    "    payoff = np.maximum(S-K,0)\n",
    "\n",
    "    F_1[-1] = F_1[-2]\n",
    "    F_1[0] = F_1[1] + S[0] - S[1]\n",
    "    \n",
    "    for t in M:\n",
    "        F = A @ F_1\n",
    "        F[-1] = F[-2]\n",
    "        F[0] = F[1] + S[0] - S[1]\n",
    "        # American option; comment out if is European\n",
    "        F_1 = np.maximum(F,payoff)   \n",
    "    return F_1[int(len(N)/2)]\n",
    "Explicit_X_Call(dt= 0.002,T=0.5,sigma=0.25,r=0.055,S0=180,k=200,K=180,dx_n=1)"
   ]
  },
  {
   "cell_type": "markdown",
   "metadata": {},
   "source": [
    "# IFD Call,Put and Eurpean, American"
   ]
  },
  {
   "cell_type": "code",
   "execution_count": 46,
   "metadata": {},
   "outputs": [
    {
     "data": {
      "text/plain": [
       "10.661461966881793"
      ]
     },
     "execution_count": 46,
     "metadata": {},
     "output_type": "execute_result"
    }
   ],
   "source": [
    "def Implicit_X_Put(dt,T,sigma,r,S0,k,K,dx_n):\n",
    "    X0 = np.log(S0)\n",
    "    dx = sigma * np.sqrt(dx_n * dt)\n",
    "    X_max = X0 + k * dx\n",
    "    X_min = X0 - k * dx\n",
    "    \n",
    "    M = np.arange(T / dt).astype(int)\n",
    "    N = ((X_max - X_min) / dx).astype(int)\n",
    "    \n",
    "    if N % 2 == 0:\n",
    "        N = np.arange(N+1)\n",
    "    else:\n",
    "        N = np.arange(N)\n",
    "        \n",
    "    S = np.exp(np.linspace(X_max,X_min,len(N)))\n",
    "    \n",
    "    p_u = - dt/2*(sigma ** 2/dx**2 + (r-sigma**2/2)/dx)\n",
    "    p_m = 1 + dt * sigma ** 2 / dx**2 + r * dt\n",
    "    p_d = - dt/2*(sigma ** 2/dx**2 - (r-sigma**2/2)/dx)\n",
    "    p = [p_u,p_m,p_d]\n",
    "    A = pd.DataFrame(np.NaN,index = N, columns = N)\n",
    "    A.iloc[0,0:2] = [1,-1]\n",
    "    A.iloc[-1,len(N)-2:] = [1,-1]\n",
    "    A.iloc[1:-1,0:3] = p\n",
    "    for i in range(2,len(N)-1):\n",
    "        A.iloc[i] = A.iloc[i].shift(i-1)\n",
    "    A = np.array(A.fillna(0))\n",
    "    \n",
    "    Z_1 = np.maximum(K - S,0)\n",
    "    payoff = np.maximum(K - S,0)\n",
    "    Z_1[0] = 0\n",
    "    Z_1[-1] = Z_1[-2] - S[-1] + S[-2]\n",
    "    for t in M:\n",
    "        Z_1[0] = 0\n",
    "        Z_1[-1] = Z_1[-2] - S[-1] + S[-2]\n",
    "        F = np.linalg.inv(A) @ Z_1\n",
    "        Z_1 = np.maximum(F,payoff)\n",
    "    return Z_1[int(len(N)/2)]\n",
    "Implicit_X_Put(dt= 0.002,T=0.5,sigma=0.25,r=0.055,S0=180,k=100,K=180,dx_n=1)"
   ]
  },
  {
   "cell_type": "code",
   "execution_count": 53,
   "metadata": {},
   "outputs": [
    {
     "data": {
      "text/plain": [
       "15.085143990845683"
      ]
     },
     "execution_count": 53,
     "metadata": {},
     "output_type": "execute_result"
    }
   ],
   "source": [
    "def Implicit_X_Call(dt,T,sigma,r,S0,k,K,dx_n):\n",
    "    X0 = np.log(S0)\n",
    "    dx = sigma * np.sqrt(dx_n * dt)\n",
    "    X_max = X0 + k * dx\n",
    "    X_min = X0 - k * dx\n",
    "    \n",
    "    M = np.arange(T / dt).astype(int)\n",
    "    N = ((X_max - X_min) / dx).astype(int)\n",
    "    \n",
    "    if N % 2 == 0:\n",
    "        N = np.arange(N+1)\n",
    "    else:\n",
    "        N = np.arange(N)\n",
    "        \n",
    "    S = np.exp(np.linspace(X_max,X_min,len(N)))\n",
    "    \n",
    "    p_u = - dt/2*(sigma ** 2/dx**2 + (r-sigma**2/2)/dx)\n",
    "    p_m = 1 + dt * sigma ** 2 / dx**2 + r * dt\n",
    "    p_d = - dt/2*(sigma ** 2/dx**2 - (r-sigma**2/2)/dx)\n",
    "    p = [p_u,p_m,p_d]\n",
    "    A = pd.DataFrame(np.NaN,index = N, columns = N)\n",
    "    A.iloc[0,0:2] = [1,-1]\n",
    "    A.iloc[-1,len(N)-2:] = [1,-1]\n",
    "    A.iloc[1:-1,0:3] = p\n",
    "    for i in range(2,len(N)-1):\n",
    "        A.iloc[i] = A.iloc[i].shift(i-1)\n",
    "    A = np.array(A.fillna(0))\n",
    "    \n",
    "    B = np.maximum(S - K,0)\n",
    "    payoff = np.maximum(S - K,0)\n",
    "    B[-1] = 0\n",
    "    B[0] = S[0] - S[1]\n",
    "    \n",
    "    for t in M:\n",
    "        F = np.linalg.inv(A) @ B\n",
    "        F[-1] = 0\n",
    "        F[0] = S[0] - S[1]\n",
    "        B = np.maximum(F,payoff)\n",
    "    return B[int(len(N)/2)]\n",
    "\n",
    "Implicit_X_Call(dt=0.002,T=0.5,sigma=0.25,r=0.055,S0=180,k=100,K=180,dx_n=1)"
   ]
  },
  {
   "cell_type": "markdown",
   "metadata": {},
   "source": [
    "# Crank Call,Put and Eurpean, American"
   ]
  },
  {
   "cell_type": "code",
   "execution_count": 57,
   "metadata": {},
   "outputs": [
    {
     "data": {
      "text/plain": [
       "10.672493499667617"
      ]
     },
     "execution_count": 57,
     "metadata": {},
     "output_type": "execute_result"
    }
   ],
   "source": [
    "def Crank_X_Put(dt,T,sigma,r,S0,k,K,dx_n):\n",
    "    X0 = np.log(S0)\n",
    "    dx = sigma * np.sqrt(dx_n * dt)\n",
    "    X_max = X0 + k * dx\n",
    "    X_min = X0 - k * dx\n",
    "    \n",
    "    M = np.arange(T / dt).astype(int)\n",
    "    N = ((X_max - X_min) / dx).astype(int)\n",
    "    \n",
    "    if N % 2 == 0:\n",
    "        N = np.arange(N+1)\n",
    "    else:\n",
    "        N = np.arange(N)\n",
    "        \n",
    "    S = np.exp(np.linspace(X_max,X_min,len(N)))\n",
    "\n",
    "    p_u = - dt/4*(sigma ** 2/dx**2 + (r-sigma**2/2)/dx)\n",
    "    p_m = 1 + dt * sigma ** 2 / (2*dx**2) + r * dt/2\n",
    "    p_d = - dt/4*(sigma ** 2/dx**2 - (r-sigma**2/2)/dx)\n",
    "    p = [p_u,p_m,p_d]\n",
    "\n",
    "    A = pd.DataFrame(np.NaN,index = N, columns = N)\n",
    "    A.iloc[0,0:2] = [1,-1]\n",
    "    A.iloc[-1,len(N)-2:] = [1,-1]\n",
    "    A.iloc[1:-1,0:3] = [p_u,p_m,p_d]\n",
    "    \n",
    "    for i in range(2,len(N)-1):\n",
    "        A.iloc[i] = A.iloc[i].shift(i-1)\n",
    "    A = np.array(A.fillna(0))\n",
    "\n",
    "    p1 = [-p_u,-(p_m-2),-p_d]\n",
    "    coeff = pd.DataFrame(np.NaN,index = N, columns = N)\n",
    "    coeff.iloc[0,0:3] = p1\n",
    "    coeff.iloc[-1,len(N)-3:] = p1\n",
    "    coeff.iloc[1:-1,0:3] = p1\n",
    "    \n",
    "    for i in range(2,len(N)-1):\n",
    "        coeff.iloc[i] = coeff.iloc[i].shift(i-1)\n",
    "    coeff = np.array(coeff.fillna(0))\n",
    "    \n",
    "    payoff = np.maximum(K - S,0)\n",
    "    P_1 = np.maximum(K - S,0)\n",
    "    \n",
    "    for t in M:\n",
    "        Z_1 = coeff @ P_1\n",
    "        Z_1[0] = S[-1] - S[-2]\n",
    "        Z_1[-1] = 0\n",
    "        F = np.linalg.inv(A) @ Z_1\n",
    "        P_1 = np.maximum(F,payoff)\n",
    "        \n",
    "    return P_1[int(len(N)/2)]\n",
    "Crank_X_Put(dt= 0.002,T=0.5,sigma= 0.25,r=0.055,S0=180,k=100,K=180,dx_n=1)"
   ]
  },
  {
   "cell_type": "code",
   "execution_count": 58,
   "metadata": {},
   "outputs": [
    {
     "data": {
      "text/plain": [
       "15.091695941761206"
      ]
     },
     "execution_count": 58,
     "metadata": {},
     "output_type": "execute_result"
    }
   ],
   "source": [
    "def Crank_X_Call(dt,T,sigma,r,S0,k,K,dx_n):\n",
    "    X0 = np.log(S0)\n",
    "    dx = sigma * np.sqrt(dx_n * dt)\n",
    "    X_max = X0 + k * dx\n",
    "    X_min = X0 - k * dx\n",
    "    \n",
    "    M = np.arange(T / dt).astype(int)\n",
    "    N = ((X_max - X_min) / dx).astype(int)\n",
    "    \n",
    "    if N % 2 == 0:\n",
    "        N = np.arange(N+1)\n",
    "    else:\n",
    "        N = np.arange(N)\n",
    "        \n",
    "    S = np.exp(np.linspace(X_max,X_min,len(N)))\n",
    "\n",
    "    p_u = - dt/4*(sigma ** 2/dx**2 + (r-sigma**2/2)/dx)\n",
    "    p_m = 1 + dt * sigma ** 2 / (2*dx**2) + r * dt/2\n",
    "    p_d = - dt/4*(sigma ** 2/dx**2 - (r-sigma**2/2)/dx)\n",
    "    p = [p_u,p_m,p_d]\n",
    "    A = pd.DataFrame(np.NaN,index = N, columns = N)\n",
    "    A.iloc[0,0:2] = [1,-1]\n",
    "    A.iloc[-1,len(N)-2:] = [1,-1]\n",
    "    A.iloc[1:-1,0:3] = [p_u,p_m,p_d]\n",
    "    \n",
    "    for i in range(2,len(N)-1):\n",
    "        A.iloc[i] = A.iloc[i].shift(i-1)\n",
    "    A = np.array(A.fillna(0))\n",
    "    p1 = [-p_u,-(p_m-2),-p_d]\n",
    "    coeff = pd.DataFrame(np.NaN,index = N, columns = N)\n",
    "    coeff.iloc[0,0:3] = p1\n",
    "    coeff.iloc[-1,len(N)-3:] = p1\n",
    "    coeff.iloc[1:-1,0:3] = p1\n",
    "    \n",
    "    for i in range(2,len(N)-1):\n",
    "        coeff.iloc[i] = coeff.iloc[i].shift(i-1)\n",
    "    coeff = np.array(coeff.fillna(0))\n",
    "    \n",
    "    payoff = np.maximum(S-K,0)\n",
    "    P_1 = np.maximum(S-K,0)\n",
    "    \n",
    "    for t in M:\n",
    "        Z_1 = coeff @ P_1\n",
    "        Z_1[0] = 0\n",
    "        Z_1[-1] = S[-1] - S[-2]\n",
    "        F = np.linalg.inv(A) @ Z_1\n",
    "        P_1 = np.maximum(F,payoff)\n",
    "        \n",
    "    return P_1[int(len(N)/2)]\n",
    "Crank_X_Call(dt= 0.002,T=0.5,sigma= 0.25,r=0.055,S0=180,k=100,K=180,dx_n=1)"
   ]
  },
  {
   "cell_type": "code",
   "execution_count": null,
   "metadata": {},
   "outputs": [],
   "source": []
  }
 ],
 "metadata": {
  "kernelspec": {
   "display_name": "Python 3",
   "language": "python",
   "name": "python3"
  },
  "language_info": {
   "codemirror_mode": {
    "name": "ipython",
    "version": 3
   },
   "file_extension": ".py",
   "mimetype": "text/x-python",
   "name": "python",
   "nbconvert_exporter": "python",
   "pygments_lexer": "ipython3",
   "version": "3.11.3"
  }
 },
 "nbformat": 4,
 "nbformat_minor": 2
}
