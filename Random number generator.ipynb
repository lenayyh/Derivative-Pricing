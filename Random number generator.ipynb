{
 "cells": [
  {
   "cell_type": "code",
   "execution_count": 7,
   "metadata": {},
   "outputs": [],
   "source": [
    "import numpy as np\n",
    "import pandas as pd\n",
    "import matplotlib.pyplot as plt\n",
    "from scipy.stats import norm\n",
    "import time\n",
    "from scipy import stats"
   ]
  },
  {
   "cell_type": "code",
   "execution_count": 11,
   "metadata": {},
   "outputs": [],
   "source": [
    "# Uniform distribution\n",
    "def gen_uniform(m,a,b,N,x0):\n",
    "    result = []\n",
    "    x = x0\n",
    "    for i in range(N):\n",
    "        x = (a * x + b) % m # choose method here\n",
    "        result.append(x / m)  # Normalize to range [0, 1]\n",
    "    return np.array(result)"
   ]
  },
  {
   "cell_type": "code",
   "execution_count": 28,
   "metadata": {},
   "outputs": [
    {
     "name": "stdout",
     "output_type": "stream",
     "text": [
      "Probbaility: 0.016 Difference: -0.004\n"
     ]
    }
   ],
   "source": [
    "# Binomial distribution\n",
    "# Simulate 44 x 1000 uniform distribution\n",
    "# 1000 random numbers with binomial distribution n = 44 and p = 0.64\n",
    "# Bernulli(n,p) = sum of 44 Bernulli(p)\n",
    "U1 = pd.DataFrame(gen_uniform(m=2**31-1, a=7**5, b=0, N=44_000, x0=123).reshape((1000,44)))\n",
    "\n",
    "# Define each simulated item to be one Bernulli(p=0.64) and sum 44 Bernulli rv. to form a Binomial rv\n",
    "# Each Column in a Bernulli; sum across column result in 1000 Bin(n,p)\n",
    "X1 = (U1 <= 0.64).sum(axis=1)\n",
    "# Calculate probability that X is greater than 35\n",
    "Prob_Bin = (X1 >= 35).mean()\n",
    "\n",
    "## Empirical number is 0.02\n",
    "Diff = Prob_Bin - 0.02\n",
    "print('Probbaility:',Prob_Bin, 'Difference:', Diff)"
   ]
  },
  {
   "cell_type": "code",
   "execution_count": 12,
   "metadata": {},
   "outputs": [
    {
     "data": {
      "text/plain": [
       "1.5170521563846937"
      ]
     },
     "execution_count": 12,
     "metadata": {},
     "output_type": "execute_result"
    }
   ],
   "source": [
    "# Assumed LGM method for uniform \n",
    "# F is invertible to empliment this method\n",
    "def exp_gen(lam):\n",
    "    U1 = gen_uniform(m=2**31-1, a=7**5, b=0, N=10_000, x0=2)\n",
    "    # inverse F (cdf of exponent)\n",
    "    X = - lam * np.log(1-U1)\n",
    "    Empirical_Std = X.std()/np.sqrt(10_000-1)\n",
    "    Empirical_mean = X.mean()\n",
    "    return [X,Empirical_Std,Empirical_mean]\n",
    "\n",
    "# Probability of X>=1:\n",
    "Prob_exp_1 = (exp_gen(lam=1.5)[0]>=1).mean()\n"
   ]
  },
  {
   "cell_type": "code",
   "execution_count": 23,
   "metadata": {},
   "outputs": [],
   "source": [
    "# Generate Normal with Box-Muller\n",
    "def Normal_BM(N_1,mean,std):\n",
    "    U1 = gen_uniform(m=2**31-1, a=7**5, b=0, N=int(N_1/2), x0=3)\n",
    "    U2 = gen_uniform(m=2**31-1, a=7**5, b=0, N=int(N_1/2), x0=4)\n",
    "    Z1 = mean + std * np.concatenate(([np.sqrt(-2*np.log(U1)) * np.cos(2*np.pi*U2),np.sqrt(-2*np.log(U1)) * np.sin(2*np.pi*U2)]))\n",
    "    return Z1"
   ]
  },
  {
   "cell_type": "code",
   "execution_count": 59,
   "metadata": {},
   "outputs": [],
   "source": [
    "# Generate Normal with Polar-Marsaglia\n",
    "def Normal_PM(N_1,mean,std):\n",
    "    # Generate (10_000>5000) to make sure enough w for Z\n",
    "    U = 2 * gen_uniform(m=2**31-1, a=7**5, b=0, N=10000, x0=1) - 1\n",
    "    df = pd.DataFrame(U.reshape((5000,2)), columns=['U1', 'U2'])\n",
    "    df['W'] = df['U1']**2+df['U2']**2\n",
    "    df = df[df['W']<1][:2500]\n",
    "    df['U1'] = df['U1'] * np.sqrt((-2 * np.log(df['W']))/df['W'])\n",
    "    df['U2'] = df['U2'] * np.sqrt((-2 * np.log(df['W']))/df['W'])\n",
    "    result = mean + std * np.concatenate((df['U1'], df['U2']))\n",
    "    return result"
   ]
  }
 ],
 "metadata": {
  "kernelspec": {
   "display_name": "Python 3",
   "language": "python",
   "name": "python3"
  },
  "language_info": {
   "codemirror_mode": {
    "name": "ipython",
    "version": 3
   },
   "file_extension": ".py",
   "mimetype": "text/x-python",
   "name": "python",
   "nbconvert_exporter": "python",
   "pygments_lexer": "ipython3",
   "version": "3.11.3"
  }
 },
 "nbformat": 4,
 "nbformat_minor": 2
}
